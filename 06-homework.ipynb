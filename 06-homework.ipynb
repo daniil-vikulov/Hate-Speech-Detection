{
 "cells": [
  {
   "cell_type": "code",
   "metadata": {
    "ExecuteTime": {
     "end_time": "2024-05-21T08:04:01.962126Z",
     "start_time": "2024-05-21T08:04:00.100294Z"
    }
   },
   "source": [
    "import pandas as pd\n",
    "import numpy as np\n",
    "import warnings\n",
    "import matplotlib.pyplot as plt\n",
    "import seaborn as sns\n",
    "from sklearn.metrics import balanced_accuracy_score\n",
    "from sklearn.model_selection import train_test_split, GridSearchCV\n",
    "from sklearn.feature_extraction.text import CountVectorizer\n",
    "from catboost import CatBoostClassifier\n",
    "from nltk.stem import WordNetLemmatizer\n",
    "import re\n",
    "from nltk.corpus import stopwords\n",
    "import nltk\n",
    "\n",
    "warnings.filterwarnings(\"ignore\")\n",
    "\n",
    "data = pd.read_csv(\"data/Twitter_Data.csv\")\n",
    "\n",
    "nltk.download('stopwords')"
   ],
   "outputs": [
    {
     "name": "stderr",
     "output_type": "stream",
     "text": [
      "[nltk_data] Downloading package stopwords to\n",
      "[nltk_data]     C:\\Users\\dv\\AppData\\Roaming\\nltk_data...\n",
      "[nltk_data]   Package stopwords is already up-to-date!\n"
     ]
    },
    {
     "data": {
      "text/plain": [
       "True"
      ]
     },
     "execution_count": 1,
     "metadata": {},
     "output_type": "execute_result"
    }
   ],
   "execution_count": 1
  },
  {
   "cell_type": "code",
   "metadata": {
    "ExecuteTime": {
     "end_time": "2024-05-21T08:04:13.615093Z",
     "start_time": "2024-05-21T08:04:13.508928Z"
    }
   },
   "source": [
    "print(f\"shape with NaN values: {data.shape}\")\n",
    "data = data.dropna()\n",
    "print(data.shape)\n",
    "\n",
    "print(f\"shape without NaN values: {data.shape}\")\n",
    "\n",
    "data.head()\n",
    "\n",
    "reviews = [\"-1\", \"0\", \"1\"]\n",
    "number_of_reviews = [data['category'].value_counts()[x] for x in range(-1, 2)]\n",
    "\n",
    "#define Seaborn color palette to use\n",
    "colors = sns.light_palette('seagreen')[0:3]\n",
    "\n",
    "#create pie chart\n",
    "plt.pie(number_of_reviews, labels=reviews, colors=colors, autopct='%.0f%%')\n",
    "plt.show()"
   ],
   "outputs": [
    {
     "name": "stdout",
     "output_type": "stream",
     "text": [
      "shape with NaN values: (162980, 2)\n",
      "(162969, 2)\n",
      "shape without NaN values: (162969, 2)\n"
     ]
    },
    {
     "data": {
      "text/plain": [
       "<Figure size 640x480 with 1 Axes>"
      ],
      "image/png": "[encoded data removed]"
     },
     "metadata": {},
     "output_type": "display_data"
    }
   ],
   "execution_count": 2
  },
  {
   "cell_type": "code",
   "metadata": {
    "ExecuteTime": {
     "end_time": "2024-05-21T08:04:15.342335Z",
     "start_time": "2024-05-21T08:04:15.037296Z"
    }
   },
   "source": [
    "def delete_punctuation_from_string(s: str):\n",
    "    return re.sub(r'[^\\w\\s]', '', s)\n",
    "\n",
    "\n",
    "data.loc[:, \"clean_text\"] = data[\"clean_text\"].astype(str)\n",
    "data.loc[:, \"clean_text\"] = data[\"clean_text\"].apply(delete_punctuation_from_string)"
   ],
   "outputs": [],
   "execution_count": 3
  },
  {
   "cell_type": "code",
   "metadata": {
    "ExecuteTime": {
     "end_time": "2024-05-21T08:04:16.770303Z",
     "start_time": "2024-05-21T08:04:16.752358Z"
    }
   },
   "source": [
    "train, test = train_test_split(data, random_state=239)"
   ],
   "outputs": [],
   "execution_count": 4
  },
  {
   "cell_type": "code",
   "metadata": {
    "ExecuteTime": {
     "end_time": "2024-05-21T08:20:50.696303Z",
     "start_time": "2024-05-21T08:18:12.067374Z"
    }
   },
   "source": [
    "bow = CountVectorizer()\n",
    "\n",
    "x_train = bow.fit_transform(train[\"clean_text\"])\n",
    "x_test = bow.transform(test[\"clean_text\"])\n",
    "y_train = train[\"category\"]\n",
    "\n",
    "import time\n",
    "\n",
    "t = time.time()\n",
    "model = CatBoostClassifier(task_type='GPU', learning_rate=0.3, iterations=1500)\n",
    "model.fit(x_train, y_train, verbose=False)\n",
    "print(time.time() - t)\n",
    "\n",
    "# 116.26442384719849\n",
    "# 0.9301598458959877\n",
    "\n",
    "# 113.65503215789795 0.3 / 1000\n",
    "# 0.9374714628447963\n",
    "\n",
    "# 152.65503215789795 0.3 / 1500\n",
    "# 0.9374714628447963\n",
    "\n",
    "# 155.61173748970032\n",
    "# 0.9399550699946421\n",
    "\n",
    "y_test = test[\"category\"]\n",
    "\n",
    "y_pred = model.predict(x_test)\n",
    "\n",
    "print(balanced_accuracy_score(y_pred, y_test))"
   ],
   "outputs": [
    {
     "name": "stdout",
     "output_type": "stream",
     "text": [
      "155.61173748970032\n",
      "0.9399550699946421\n"
     ]
    }
   ],
   "execution_count": 12
  },
  {
   "cell_type": "code",
   "metadata": {
    "ExecuteTime": {
     "end_time": "2024-05-21T08:04:20.318215Z",
     "start_time": "2024-05-21T08:04:20.308985Z"
    }
   },
   "source": [
    "l = WordNetLemmatizer()\n",
    "\n",
    "\n",
    "def lemmatize(x):\n",
    "    x = map(lambda r: ' '.join([l.lemmatize(i.lower()) for i in r.split()]), x)\n",
    "    x = np.array(list(x))\n",
    "    return x\n",
    "\n",
    "\n",
    "stop_words = stopwords.words('english')\n",
    "\n",
    "\n",
    "def delete_stop_word(s):\n",
    "    words = s.split()\n",
    "    return \" \".join([word for word in words if word.lower() not in stop_words])"
   ],
   "outputs": [],
   "execution_count": 6
  },
  {
   "cell_type": "code",
   "metadata": {
    "ExecuteTime": {
     "end_time": "2024-05-20T13:40:19.805388Z",
     "start_time": "2024-05-20T13:40:11.152467Z"
    }
   },
   "source": [
    "# apply lemmatization\n",
    "train[\"clean_text\"] = lemmatize(train[\"clean_text\"])\n",
    "test[\"clean_text\"] = lemmatize(test[\"clean_text\"])\n",
    "\n",
    "# delete stop words\n",
    "train[\"clean_text\"] = train[\"clean_text\"].apply(delete_stop_word)\n",
    "test[\"clean_text\"] = test[\"clean_text\"].apply(delete_stop_word)"
   ],
   "outputs": [],
   "execution_count": 7
  },
  {
   "metadata": {},
   "cell_type": "markdown",
   "source": ""
  },
  {
   "cell_type": "code",
   "metadata": {
    "ExecuteTime": {
     "end_time": "2024-05-20T13:40:23.763417Z",
     "start_time": "2024-05-20T13:40:22.501498Z"
    }
   },
   "source": [
    "bow = CountVectorizer()\n",
    "\n",
    "x_train = bow.fit_transform(train[\"clean_text\"])\n",
    "x_test = bow.transform(test[\"clean_text\"])\n",
    "y_train = train[\"category\"]\n",
    "y_test = test[\"category\"]"
   ],
   "outputs": [],
   "execution_count": 8
  },
  {
   "metadata": {
    "ExecuteTime": {
     "end_time": "2024-05-20T19:25:10.767077Z",
     "start_time": "2024-05-20T13:40:43.984535Z"
    }
   },
   "cell_type": "code",
   "source": [
    "# Tuning CatBoostClassifier's hyperparameters\n",
    "\n",
    "cb_model = CatBoostClassifier(verbose=False)\n",
    "\n",
    "cb_param_grid = {\n",
    "    'iterations': [500, 1000, 1500],\n",
    "    'depth': [3, 5, 7, 9],\n",
    "    'learning_rate': [0.1, 0.15, 0.2, 0.3],\n",
    "}\n",
    "\n",
    "'''\n",
    "param_grid = {\n",
    "    'iterations': [100, 300, 500],\n",
    "    'depth': [3, 5, 7],\n",
    "    'learning_rate': [0.01, 0.05, 0.1]\n",
    "}\n",
    "Best parameters: {'depth': 5, 'iterations': 500, 'learning_rate': 0.1}\n",
    "Best score: 0.8655277927773142\n",
    "Test set score: 0.8681736740053506\n",
    "'''\n",
    "\n",
    "cb_gs = GridSearchCV(estimator=cb_model, param_grid=cb_param_grid, cv=3, n_jobs=-1, verbose=3)\n",
    "\n",
    "cb_gs.fit(x_train, y_train)\n",
    "\n",
    "print(\"Best parameters:\", cb_gs.best_params_)\n",
    "print(\"Best score:\", cb_gs.best_score_)\n",
    "\n",
    "best_model = cb_gs.best_estimator_\n",
    "test_score = best_model.score(x_test, y_test)\n",
    "print(\"Test set score:\", test_score)"
   ],
   "outputs": [
    {
     "name": "stdout",
     "output_type": "stream",
     "text": [
      "Fitting 3 folds for each of 48 candidates, totalling 144 fits\n",
      "Best parameters: {'depth': 9, 'iterations': 1500, 'learning_rate': 0.3}\n",
      "Best score: 0.886570778721385\n",
      "Test set score: 0.8937240753012787\n"
     ]
    }
   ],
   "execution_count": 9
  },
  {
   "cell_type": "code",
   "execution_count": 43,
   "metadata": {},
   "outputs": [],
   "source": [
    "\n",
    "\n",
    "# clf = GridSearchCV(CatBoostClassifier(verbose=0), parameters)\n",
    "clf = CatBoostClassifier(iterations=500, depth=5, learning_rate=0.1, verbose=False)\n",
    "clf.fit(x_train, y_train)\n",
    "\n",
    "y_pred = clf.predict(x_test)"
   ]
  },
  {
   "cell_type": "code",
   "execution_count": 44,
   "metadata": {},
   "outputs": [
    {
     "data": {
      "text/plain": [
       "0.8407455792950113"
      ]
     },
     "execution_count": 44,
     "metadata": {},
     "output_type": "execute_result"
    }
   ],
   "source": "balanced_accuracy_score(y_pred, y_test)  # parameters are bad."
  },
  {
   "cell_type": "code",
   "metadata": {
    "ExecuteTime": {
     "end_time": "2024-05-21T08:21:50.286033Z",
     "start_time": "2024-05-21T08:21:48.828521Z"
    }
   },
   "source": [
    "reviews = [\"AMAZING I LOVE YOU ALL THERE\", \"I used your service once, but it was terrible\"]\n",
    "\n",
    "reviews = lemmatize(reviews)\n",
    "reviews = bow.transform(reviews)\n",
    "\n",
    "clf.predict(reviews)"
   ],
   "outputs": [
    {
     "ename": "NameError",
     "evalue": "name 'clf' is not defined",
     "output_type": "error",
     "traceback": [
      "\u001B[1;31m---------------------------------------------------------------------------\u001B[0m",
      "\u001B[1;31mNameError\u001B[0m                                 Traceback (most recent call last)",
      "Cell \u001B[1;32mIn[13], line 6\u001B[0m\n\u001B[0;32m      3\u001B[0m reviews \u001B[38;5;241m=\u001B[39m lemmatize(reviews)\n\u001B[0;32m      4\u001B[0m reviews \u001B[38;5;241m=\u001B[39m bow\u001B[38;5;241m.\u001B[39mtransform(reviews)\n\u001B[1;32m----> 6\u001B[0m \u001B[43mclf\u001B[49m\u001B[38;5;241m.\u001B[39mpredict(reviews)\n",
      "\u001B[1;31mNameError\u001B[0m: name 'clf' is not defined"
     ]
    }
   ],
   "execution_count": 13
  }
 ],
 "metadata": {
  "kernelspec": {
   "display_name": "Python 3",
   "language": "python",
   "name": "python3"
  },
  "language_info": {
   "codemirror_mode": {
    "name": "ipython",
    "version": 3
   },
   "file_extension": ".py",
   "mimetype": "text/x-python",
   "name": "python",
   "nbconvert_exporter": "python",
   "pygments_lexer": "ipython3",
   "version": "3.12.3"
  }
 },
 "nbformat": 4,
 "nbformat_minor": 2
}
